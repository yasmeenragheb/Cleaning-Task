{
  "nbformat": 4,
  "nbformat_minor": 0,
  "metadata": {
    "colab": {
      "provenance": [],
      "collapsed_sections": []
    },
    "kernelspec": {
      "name": "python3",
      "display_name": "Python 3"
    },
    "language_info": {
      "name": "python"
    }
  },
  "cells": [
    {
      "cell_type": "markdown",
      "source": [
        "#Import libraries"
      ],
      "metadata": {
        "id": "CwLutZAfokd_"
      }
    },
    {
      "cell_type": "code",
      "execution_count": null,
      "metadata": {
        "id": "QPV4RraZKT1D"
      },
      "outputs": [],
      "source": [
        "#import libraries \n",
        "import pandas as pd\n",
        "import numpy as np\n",
        "import matplotlib.pyplot as plt\n",
        "import seaborn as sns\n",
        "!pip install fuzzywuzzy  \n",
        "from fuzzywuzzy import fuzz\n",
        "from fuzzywuzzy import process \n"
      ]
    },
    {
      "cell_type": "markdown",
      "source": [
        "\n",
        "# load Data\n",
        "\n",
        "\n",
        "\n",
        "\n"
      ],
      "metadata": {
        "id": "wT_zi-1jn_i0"
      }
    },
    {
      "cell_type": "code",
      "source": [
        "df = pd.read_csv(\"candyhierarchy2017.csv\")\n",
        "df"
      ],
      "metadata": {
        "id": "M8bn1rs7KpF9"
      },
      "execution_count": null,
      "outputs": []
    },
    {
      "cell_type": "markdown",
      "source": [
        "# Cleaning\n",
        "\n",
        "*   Rename the columns for easily accessed\n",
        "*   Drop useless columns\n",
        "*Search for duplicated values\n",
        "*Most people who record only the first 6 columns leave the rest of the survey empty, so we should have at least 7 columns to get insights from the data \n",
        "\n"
      ],
      "metadata": {
        "id": "S14YMmOCpN9o"
      }
    },
    {
      "cell_type": "code",
      "source": [
        "#rename the columns for easily accessed\n",
        "df.columns = df.columns.str.lower()\n",
        "df.columns = df.columns.str.replace('\\d+', '').str.replace('q:', '').str.replace('q', '').str.replace('|', '').str.strip()\n",
        "df\n"
      ],
      "metadata": {
        "id": "NWnTtNgpEV5W"
      },
      "execution_count": null,
      "outputs": []
    },
    {
      "cell_type": "code",
      "source": [
        "#**Drop the Internal ID column, since it's useless\n",
        "df.drop(\"internal id\", axis = 1, inplace = True)"
      ],
      "metadata": {
        "id": "FVuC9PLkCjDP"
      },
      "execution_count": 5,
      "outputs": []
    },
    {
      "cell_type": "code",
      "source": [
        "#drop useless columns\n",
        "df[\"joy other\"].value_counts().head(10)\n",
        "df[\"despair other\"].value_counts().head(10)\n",
        "df.drop(columns=[\"joy other\",\"despair other\", \"other comments\",\"click coordinates (x, y)\",\"unnamed:\"], inplace = True)"
      ],
      "metadata": {
        "id": "BAycrW5Ir9dd"
      },
      "execution_count": 6,
      "outputs": []
    },
    {
      "cell_type": "code",
      "source": [
        "# we should have at least 7 columns to get insights from the data\n",
        "df = df.dropna(how = \"all\", thresh = 7)"
      ],
      "metadata": {
        "id": "XM6ZGeX6r9VX"
      },
      "execution_count": 7,
      "outputs": []
    },
    {
      "cell_type": "code",
      "source": [
        "duplicate = df.duplicated()\n",
        "print(duplicate.sum())"
      ],
      "metadata": {
        "colab": {
          "base_uri": "https://localhost:8080/"
        },
        "id": "Wgoi5-0txKQP",
        "outputId": "32d6bff6-aa71-4c35-ce4f-99d092bb8acd"
      },
      "execution_count": 8,
      "outputs": [
        {
          "output_type": "stream",
          "name": "stdout",
          "text": [
            "0\n"
          ]
        }
      ]
    },
    {
      "cell_type": "code",
      "source": [
        "df.info()"
      ],
      "metadata": {
        "colab": {
          "base_uri": "https://localhost:8080/"
        },
        "id": "xyM79bZ6L_YD",
        "outputId": "3853b35b-c8a1-44c2-9c88-ce1d493f27ce"
      },
      "execution_count": 138,
      "outputs": [
        {
          "output_type": "stream",
          "name": "stdout",
          "text": [
            "<class 'pandas.core.frame.DataFrame'>\n",
            "Int64Index: 1806 entries, 1 to 2459\n",
            "Columns: 111 entries, going out? to media\n",
            "dtypes: float64(1), object(110)\n",
            "memory usage: 1.6+ MB\n"
          ]
        }
      ]
    },
    {
      "cell_type": "code",
      "source": [
        "df.isna().sum()"
      ],
      "metadata": {
        "colab": {
          "base_uri": "https://localhost:8080/"
        },
        "id": "znOPvYT5eqZ0",
        "outputId": "ce252fbe-1222-4f00-9190-2ac8b1663ba5"
      },
      "execution_count": 144,
      "outputs": [
        {
          "output_type": "execute_result",
          "data": {
            "text/plain": [
              "going out?                        0\n",
              "gender                            0\n",
              "age                               0\n",
              "country                          61\n",
              "state, province, county, etc     80\n",
              "                               ... \n",
              "whole wheat anything            128\n",
              "york peppermint patties          89\n",
              "dress                            39\n",
              "day                             109\n",
              "media                            39\n",
              "Length: 111, dtype: int64"
            ]
          },
          "metadata": {},
          "execution_count": 144
        }
      ]
    },
    {
      "cell_type": "markdown",
      "source": [
        "**Going Out** **Column**\n",
        "\n",
        "* Replace Nan values with \"missing\"\n"
      ],
      "metadata": {
        "id": "L57VrsN5nJRw"
      }
    },
    {
      "cell_type": "code",
      "source": [
        "df[\"going out?\"].unique()"
      ],
      "metadata": {
        "colab": {
          "base_uri": "https://localhost:8080/"
        },
        "id": "VWkfODoNnTZO",
        "outputId": "bfb8f9f9-a44f-48a1-c110-267928a4fae2"
      },
      "execution_count": 140,
      "outputs": [
        {
          "output_type": "execute_result",
          "data": {
            "text/plain": [
              "array(['No', 'Yes', nan], dtype=object)"
            ]
          },
          "metadata": {},
          "execution_count": 140
        }
      ]
    },
    {
      "cell_type": "code",
      "source": [
        "df[\"going out?\"].fillna('Missing', inplace=True)\n",
        "df[\"going out?\"].head(20)"
      ],
      "metadata": {
        "id": "jJlspG2SoOaL"
      },
      "execution_count": null,
      "outputs": []
    },
    {
      "cell_type": "markdown",
      "source": [
        ">**Gender Column**\n",
        " * Replace Nan values with \"\"I'd rather not say\"\"\n"
      ],
      "metadata": {
        "id": "JNosdlUvHZad"
      }
    },
    {
      "cell_type": "code",
      "source": [
        "#Gender column\n",
        "df[\"gender\"].fillna(\"I'd rather not say\", inplace=True)\n",
        "df[\"gender\"].value_counts(dropna = False)"
      ],
      "metadata": {
        "colab": {
          "base_uri": "https://localhost:8080/"
        },
        "id": "zf8ZegnxGvcK",
        "outputId": "ac52a3f2-b223-4b0d-9eca-1cf2b3e5f9a3"
      },
      "execution_count": 143,
      "outputs": [
        {
          "output_type": "execute_result",
          "data": {
            "text/plain": [
              "Male                  1070\n",
              "Female                 605\n",
              "I'd rather not say     106\n",
              "Other                   25\n",
              "Name: gender, dtype: int64"
            ]
          },
          "metadata": {},
          "execution_count": 143
        }
      ]
    },
    {
      "cell_type": "markdown",
      "source": [
        ">\n",
        "\n",
        "**Age Column**\n",
        "* missing values\n",
        "-outliers\n",
        "-data type\n",
        "\n"
      ],
      "metadata": {
        "id": "-YHlj3tupcsh"
      }
    },
    {
      "cell_type": "code",
      "source": [
        "df['age'].unique()"
      ],
      "metadata": {
        "id": "FM4MSRFtBjRu"
      },
      "execution_count": null,
      "outputs": []
    },
    {
      "cell_type": "code",
      "source": [
        "#with using ‘coerce’ then invalid parsing will be set as NaN.\n",
        "df['age'] = pd.to_numeric(df['age'], errors='coerce')\n",
        "df['age'].unique()"
      ],
      "metadata": {
        "id": "IdBF2d8_4-_H"
      },
      "execution_count": null,
      "outputs": []
    },
    {
      "cell_type": "code",
      "source": [
        "df['age'].describe()"
      ],
      "metadata": {
        "id": "CLykOSr-y5Py"
      },
      "execution_count": null,
      "outputs": []
    },
    {
      "cell_type": "code",
      "source": [
        "df['age'].value_counts()[1000]\n",
        "df.loc[df['age'] > 100, 'age'] = np.nan"
      ],
      "metadata": {
        "id": "ZpwYvBHIpcEP"
      },
      "execution_count": null,
      "outputs": []
    },
    {
      "cell_type": "code",
      "source": [
        "#dealing with outliers\n",
        "sns.catplot(x = \"age\",\n",
        "             data = df,\n",
        "             kind = \"box\")"
      ],
      "metadata": {
        "id": "F7gM3ogAuG4w"
      },
      "execution_count": null,
      "outputs": []
    },
    {
      "cell_type": "code",
      "source": [
        "sns.displot(df, x=\"age\")"
      ],
      "metadata": {
        "id": "P20XpRt6tSDb"
      },
      "execution_count": null,
      "outputs": []
    },
    {
      "cell_type": "code",
      "source": [
        "\n",
        "#data points that lie 1.5 times of IQR above Q3 and below Q1 are outliers.\n",
        "Q1 = df[\"age\"].quantile(0.25)\n",
        "Q3 = df[\"age\"].quantile(0.75)\n",
        "IQR = Q3 - Q1\n",
        "low_bound = Q1 - 1.5 * IQR\n",
        "up_bound = Q3 + 1.5 * IQR\n",
        "low_bound "
      ],
      "metadata": {
        "id": "x8g5Z1lS4cQt"
      },
      "execution_count": null,
      "outputs": []
    },
    {
      "cell_type": "code",
      "source": [
        "df.loc[df[\"age\"] < low_bound]= np.nan\n",
        "df.loc[df[\"age\"] > up_bound]= np.nan\n",
        "df[\"age\"].describe()"
      ],
      "metadata": {
        "id": "U3BAj8IIC8zy"
      },
      "execution_count": null,
      "outputs": []
    },
    {
      "cell_type": "code",
      "source": [
        "df[\"age\"].value_counts(dropna = False)"
      ],
      "metadata": {
        "id": "a193dOk_F0Tb"
      },
      "execution_count": null,
      "outputs": []
    },
    {
      "cell_type": "code",
      "source": [
        "#replace missing values with median\n",
        "median = df[\"age\"].median()\n",
        "df[\"age\"].fillna(median,inplace=True)\n",
        "df[\"age\"].unique()\n"
      ],
      "metadata": {
        "id": "SwJTCYx2EHSF"
      },
      "execution_count": null,
      "outputs": []
    },
    {
      "cell_type": "code",
      "source": [
        "sns.displot(df, x=\"age\")"
      ],
      "metadata": {
        "id": "ABNrJna0E_X8"
      },
      "execution_count": null,
      "outputs": []
    },
    {
      "cell_type": "markdown",
      "source": [
        ">**Country** **Column**"
      ],
      "metadata": {
        "id": "RCdaiUYIp-Kw"
      }
    },
    {
      "cell_type": "code",
      "source": [
        "\n",
        "df[\"country\"] = df[\"country\"].str.lower()\n",
        "df[\"country\"] = df[\"country\"].str.strip()\n",
        "\n",
        "\n"
      ],
      "metadata": {
        "colab": {
          "base_uri": "https://localhost:8080/"
        },
        "id": "5_gxIhlLr9TD",
        "outputId": "a8061b44-5fba-4cb7-9ed9-00f871d23735"
      },
      "execution_count": 148,
      "outputs": [
        {
          "output_type": "stream",
          "name": "stderr",
          "text": [
            "/usr/local/lib/python3.7/dist-packages/ipykernel_launcher.py:2: SettingWithCopyWarning: \n",
            "A value is trying to be set on a copy of a slice from a DataFrame.\n",
            "Try using .loc[row_indexer,col_indexer] = value instead\n",
            "\n",
            "See the caveats in the documentation: https://pandas.pydata.org/pandas-docs/stable/user_guide/indexing.html#returning-a-view-versus-a-copy\n",
            "  \n"
          ]
        }
      ]
    },
    {
      "cell_type": "markdown",
      "source": [
        "Remapping"
      ],
      "metadata": {
        "id": "XUQJBuNi7NwS"
      }
    },
    {
      "cell_type": "code",
      "source": [
        "#FOR USA\n",
        "#the united state =  united state = usa = us\n",
        "\n",
        "unique_vals = df[\"country\"].unique()\n",
        "matches1 = process.extract('usa',unique_vals, limit = len(unique_vals))\n",
        "#67 for usa\n",
        "for match in matches1:\n",
        "  if match[1] >= 67:\n",
        "    df.loc[df[\"country\"]==match[0],\"country\" ] = 'usa'\n",
        "matches2 = process.extract('united states',unique_vals, limit = len(unique_vals))\n",
        "#90 for united state\n",
        "for match in matches2:\n",
        "  if match[1] >= 90:\n",
        "    df.loc[df[\"country\"]==match[0], \"country\"] = 'usa'\n",
        "matches2\n",
        "df[\"country\"].unique()\n",
        "matches3 = process.extract('america',unique_vals, limit = len(unique_vals))\n",
        "#77 for america\n",
        "for match in matches3:\n",
        "  if match[1] >= 77:\n",
        "    df.loc[df[\"country\"]==match[0], \"country\"] = 'usa'\n",
        "df[\"country\"].unique()\n",
        "df"
      ],
      "metadata": {
        "id": "pM2xSEYFrjrd"
      },
      "execution_count": null,
      "outputs": []
    },
    {
      "cell_type": "code",
      "source": [
        "#FOR UK\n",
        "#england = uk = united kingdom\n",
        "unique_vals = df[\"country\"].unique()\n",
        "matches1 = process.extract('england',unique_vals, limit = len(unique_vals))\n",
        "matches1\n",
        "#86 for england\n",
        "for match in matches1:\n",
        "  if match[1] >= 86:\n",
        "    df.loc[df[\"country\"]==match[0], \"country\"] = 'england'\n",
        "df[\"country\"].replace({\"united kingdom\" : \"uk\"}, inplace =True)\n",
        "df[\"country\"].replace({\"england\" : \"uk\"}, inplace =True)\n",
        "\n",
        "df"
      ],
      "metadata": {
        "id": "oIMiVvvT_NKO"
      },
      "execution_count": null,
      "outputs": []
    },
    {
      "cell_type": "code",
      "source": [
        "num_vals= df[\"country\"].value_counts()\n",
        "num_vals"
      ],
      "metadata": {
        "id": "gQskOKq3wEgr"
      },
      "execution_count": null,
      "outputs": []
    },
    {
      "cell_type": "code",
      "source": [
        "#replace all the countries that count less than 7 with \"Other\"\n",
        "i = pd.DataFrame(df['country'].value_counts())\n",
        "ncountry = i[i['country']>7] \n",
        "#ncountry.iloc[:,0]\n"
      ],
      "metadata": {
        "colab": {
          "base_uri": "https://localhost:8080/"
        },
        "id": "Gpqvd7N56HBb",
        "outputId": "9bd0319b-65dd-4a41-e541-f7a0b66ce392"
      },
      "execution_count": 170,
      "outputs": [
        {
          "output_type": "execute_result",
          "data": {
            "text/plain": [
              "usa       1513\n",
              "canada     155\n",
              "Other       61\n",
              "uk          14\n",
              "Name: country, dtype: int64"
            ]
          },
          "metadata": {},
          "execution_count": 170
        }
      ]
    },
    {
      "cell_type": "code",
      "source": [
        "#replace missing values with \"Other\"\n",
        "df[\"country\"].fillna(\"Other\",inplace=True)"
      ],
      "metadata": {
        "id": "Pt0fVcbfkpTL"
      },
      "execution_count": null,
      "outputs": []
    },
    {
      "cell_type": "markdown",
      "source": [
        ">**STATE, PROVINCE, COUNTY, ETC Column**\n",
        "\n"
      ],
      "metadata": {
        "id": "xqAeJVf9BGmu"
      }
    },
    {
      "cell_type": "code",
      "source": [
        "df.rename(columns ={\"state, province, county, etc\" : \"state\"}, inplace = True)\n",
        "df"
      ],
      "metadata": {
        "id": "zYw_200uBVq7"
      },
      "execution_count": null,
      "outputs": []
    },
    {
      "cell_type": "code",
      "source": [
        "#replace missing values with \"Other\"\n",
        "df[\"state\"].fillna(\"Other\",inplace=True)"
      ],
      "metadata": {
        "id": "s0QiFzDSlGvJ"
      },
      "execution_count": null,
      "outputs": []
    },
    {
      "cell_type": "markdown",
      "source": [
        ">**Dress** **column**"
      ],
      "metadata": {
        "id": "uWb1ZDF2otTJ"
      }
    },
    {
      "cell_type": "code",
      "source": [
        "#Repalce missing values with \"Other\"\n",
        "df[\"dress\"].fillna(\"Other\", inplace = True)\n",
        "df[\"dress\"].value_counts(dropna=False)"
      ],
      "metadata": {
        "colab": {
          "base_uri": "https://localhost:8080/"
        },
        "id": "MNnYqL1NipXY",
        "outputId": "2d15899c-8671-4fc9-a027-c0e7587e6992"
      },
      "execution_count": 182,
      "outputs": [
        {
          "output_type": "execute_result",
          "data": {
            "text/plain": [
              "White and gold    1059\n",
              "Blue and black     620\n",
              "Other              127\n",
              "Name: dress, dtype: int64"
            ]
          },
          "metadata": {},
          "execution_count": 182
        }
      ]
    },
    {
      "cell_type": "markdown",
      "source": [
        ">**Day column**"
      ],
      "metadata": {
        "id": "bmf7iTKZpQms"
      }
    },
    {
      "cell_type": "code",
      "source": [
        "#Repalce missing values with \"Other\"\n",
        "df[\"day\"].value_counts(dropna=False)\n",
        "df[\"day\"].fillna(\"other\",inplace=True)"
      ],
      "metadata": {
        "id": "1M5t66CMipb2"
      },
      "execution_count": 183,
      "outputs": []
    },
    {
      "cell_type": "markdown",
      "source": [
        ">**Candy Column**"
      ],
      "metadata": {
        "id": "dOIyegcOpbJ0"
      }
    },
    {
      "cell_type": "code",
      "source": [
        "candy_col= df.iloc[:,5:108]\n",
        "candy_col"
      ],
      "metadata": {
        "id": "IT11RgyUgmDP"
      },
      "execution_count": null,
      "outputs": []
    },
    {
      "cell_type": "code",
      "source": [
        "candy_col.isna().sum().head()"
      ],
      "metadata": {
        "colab": {
          "base_uri": "https://localhost:8080/"
        },
        "id": "TtP0Tu4ErcDr",
        "outputId": "b9ef0419-4946-4908-acc4-a063576526c9"
      },
      "execution_count": 203,
      "outputs": [
        {
          "output_type": "execute_result",
          "data": {
            "text/plain": [
              "grand bar                                                                            0\n",
              "anonymous brown globs that come in black and orange wrappers\\t(a.k.a. mary janes)    0\n",
              "any full-sized candy bar                                                             0\n",
              "black jacks                                                                          0\n",
              "bonkers (the candy)                                                                  0\n",
              "dtype: int64"
            ]
          },
          "metadata": {},
          "execution_count": 203
        }
      ]
    },
    {
      "cell_type": "code",
      "source": [
        "#Repalce missing values with \"No idea\"\n",
        "candy_col.fillna(\"No Idea\", inplace = True)\n"
      ],
      "metadata": {
        "id": "O09ESDSer2Yr"
      },
      "execution_count": 202,
      "outputs": []
    },
    {
      "cell_type": "code",
      "source": [
        "candy_col[\"grand bar\"].value_counts()"
      ],
      "metadata": {
        "colab": {
          "base_uri": "https://localhost:8080/"
        },
        "id": "t4yvzMLNYrfa",
        "outputId": "c467f58c-a1d8-443a-d775-bc98d2963b70"
      },
      "execution_count": 204,
      "outputs": [
        {
          "output_type": "execute_result",
          "data": {
            "text/plain": [
              "JOY        858\n",
              "MEH        743\n",
              "No Idea    127\n",
              "DESPAIR     78\n",
              "Name: grand bar, dtype: int64"
            ]
          },
          "metadata": {},
          "execution_count": 204
        }
      ]
    },
    {
      "cell_type": "code",
      "source": [
        "x = candy_col[candy_col == \"JOY\"]\n",
        "x"
      ],
      "metadata": {
        "id": "1D9u3Qnsr5xE"
      },
      "execution_count": null,
      "outputs": []
    },
    {
      "cell_type": "code",
      "source": [
        "candy_col[\"grand bar\"] = candy_col[\"grand bar\"].astype('category')\n",
        "df[\"grand bar\"].describe()"
      ],
      "metadata": {
        "colab": {
          "base_uri": "https://localhost:8080/"
        },
        "id": "P8esvoHfoNjp",
        "outputId": "1bc199eb-8d61-4b5c-8933-8e60ebab083c"
      },
      "execution_count": 206,
      "outputs": [
        {
          "output_type": "execute_result",
          "data": {
            "text/plain": [
              "count     1679\n",
              "unique       3\n",
              "top        JOY\n",
              "freq       858\n",
              "Name: grand bar, dtype: object"
            ]
          },
          "metadata": {},
          "execution_count": 206
        }
      ]
    },
    {
      "cell_type": "code",
      "source": [
        "for i in "
      ],
      "metadata": {
        "id": "a6Wlc7Mqsjn6"
      },
      "execution_count": null,
      "outputs": []
    },
    {
      "cell_type": "markdown",
      "source": [
        ">**Media column**"
      ],
      "metadata": {
        "id": "yb5OySiqE3U0"
      }
    },
    {
      "cell_type": "code",
      "source": [
        "#[\"media [daily dish]\", \"media [science]\",\"media [espn]\",\"media [yahoo]\"]"
      ],
      "metadata": {
        "id": "GQcJY83H7_5K"
      },
      "execution_count": null,
      "outputs": []
    },
    {
      "cell_type": "code",
      "source": [
        "#Shorter Answer?\n",
        "df[\"media [daily dish]\"].replace(1,\"daily dish\", inplace =True)\n",
        "df[\"media [science]\"].replace(1,\"science\", inplace =True)\n",
        "df[\"media [espn]\"].replace(1,\"espn\", inplace =True)\n",
        "df[\"media [yahoo]\"].replace(1,\"yahoo\", inplace =True)"
      ],
      "metadata": {
        "id": "XiKRaEUSDCy6"
      },
      "execution_count": null,
      "outputs": []
    },
    {
      "cell_type": "code",
      "source": [
        "df[\"media\"] = df[\"media [daily dish]\"].fillna('') + df[\"media [science]\"].fillna('')+ df[\"media [espn]\"].fillna('')+ df[\"media [yahoo]\"].fillna('')\n",
        "df[\"media\"]\n",
        "df"
      ],
      "metadata": {
        "id": "-Dxvhl27AU8T"
      },
      "execution_count": null,
      "outputs": []
    },
    {
      "cell_type": "code",
      "source": [
        "df.drop(columns =[\"media [daily dish]\", \"media [science]\",\"media [espn]\",\"media [yahoo]\"], inplace =True)\n",
        "\n"
      ],
      "metadata": {
        "id": "LdNknk_NB2Yb"
      },
      "execution_count": null,
      "outputs": []
    },
    {
      "cell_type": "code",
      "source": [
        "df[\"media\"].fillna('other', inplace =True)\n",
        "df[\"media\"].unique()"
      ],
      "metadata": {
        "id": "owYat61uLb0y"
      },
      "execution_count": null,
      "outputs": []
    },
    {
      "cell_type": "markdown",
      "source": [
        "#"
      ],
      "metadata": {
        "id": "588Uxr19DAr2"
      }
    },
    {
      "cell_type": "markdown",
      "source": [
        "#Insights"
      ],
      "metadata": {
        "id": "gkxsYOfmiZcc"
      }
    },
    {
      "cell_type": "code",
      "source": [
        "#science website is the most likely checked out\n",
        "#daily dish is checked out by females more than males\n",
        "sns.set_palette(\"RdBu\")\n",
        "\n",
        "c_order = [\"science\", \"espn\", \"daily dish\", \"yahoo\"]\n",
        "sns.countplot(x=\"media\",\n",
        "            data = df,\n",
        "            order = c_order\n",
        "            ,hue =\"gender\")"
      ],
      "metadata": {
        "colab": {
          "base_uri": "https://localhost:8080/",
          "height": 296
        },
        "id": "_gOhsaI05mTq",
        "outputId": "4f58e546-33c2-45e9-968d-c43dad863cfa"
      },
      "execution_count": 93,
      "outputs": [
        {
          "output_type": "execute_result",
          "data": {
            "text/plain": [
              "<matplotlib.axes._subplots.AxesSubplot at 0x7fd5e1efd310>"
            ]
          },
          "metadata": {},
          "execution_count": 93
        },
        {
          "output_type": "display_data",
          "data": {
            "text/plain": [
              "<Figure size 432x288 with 1 Axes>"
            ],
            "image/png": "[encoded data removed]"
          },
          "metadata": {
            "needs_background": "light"
          }
        }
      ]
    },
    {
      "cell_type": "code",
      "source": [
        "\n",
        "\n",
        "c_order = [\"Male\", \"Female\"]\n",
        "sns.boxplot(y=\"age\",\n",
        "            x = \"gender\",\n",
        "            data = df,\n",
        "            order =c_order )"
      ],
      "metadata": {
        "colab": {
          "base_uri": "https://localhost:8080/",
          "height": 296
        },
        "id": "lWjo5zXPiYql",
        "outputId": "deaebb48-2553-4942-bc23-af327dee520f"
      },
      "execution_count": 130,
      "outputs": [
        {
          "output_type": "execute_result",
          "data": {
            "text/plain": [
              "<matplotlib.axes._subplots.AxesSubplot at 0x7fd5dcb87290>"
            ]
          },
          "metadata": {},
          "execution_count": 130
        },
        {
          "output_type": "display_data",
          "data": {
            "text/plain": [
              "<Figure size 432x288 with 1 Axes>"
            ],
            "image/png": "[encoded data removed]"
          },
          "metadata": {
            "needs_background": "light"
          }
        }
      ]
    },
    {
      "cell_type": "code",
      "source": [
        "c_order = [\"Male\", \"Female\"]\n",
        "sns.countplot(x = \"gender\",\n",
        "            data = df,\n",
        "            order =c_order )"
      ],
      "metadata": {
        "colab": {
          "base_uri": "https://localhost:8080/",
          "height": 296
        },
        "id": "SnMxzk8acWom",
        "outputId": "1bf0a530-49ce-4817-88dd-10ea1c5e818b"
      },
      "execution_count": 136,
      "outputs": [
        {
          "output_type": "execute_result",
          "data": {
            "text/plain": [
              "<matplotlib.axes._subplots.AxesSubplot at 0x7fd5dc997050>"
            ]
          },
          "metadata": {},
          "execution_count": 136
        },
        {
          "output_type": "display_data",
          "data": {
            "text/plain": [
              "<Figure size 432x288 with 1 Axes>"
            ],
            "image/png": "[encoded data removed]"
          },
          "metadata": {
            "needs_background": "light"
          }
        }
      ]
    },
    {
      "cell_type": "code",
      "source": [
        "sns.countplot(x=\"grand bar\",\n",
        "            data = candy_col\n",
        "        )"
      ],
      "metadata": {
        "colab": {
          "base_uri": "https://localhost:8080/",
          "height": 296
        },
        "id": "HIpiu-93rNaY",
        "outputId": "c2171669-6417-421f-9bb4-114291733731"
      },
      "execution_count": 60,
      "outputs": [
        {
          "output_type": "execute_result",
          "data": {
            "text/plain": [
              "<matplotlib.axes._subplots.AxesSubplot at 0x7f0941b4ee10>"
            ]
          },
          "metadata": {},
          "execution_count": 60
        },
        {
          "output_type": "display_data",
          "data": {
            "text/plain": [
              "<Figure size 432x288 with 1 Axes>"
            ],
            "image/png": "[encoded data removed]"
          },
          "metadata": {
            "needs_background": "light"
          }
        }
      ]
    }
  ]
}